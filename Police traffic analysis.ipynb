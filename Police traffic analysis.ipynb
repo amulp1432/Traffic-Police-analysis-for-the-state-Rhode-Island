{
 "cells": [
  {
   "cell_type": "markdown",
   "id": "889d4b05",
   "metadata": {},
   "source": [
    "# Problem Statement\n",
    "* On a typical day in the United States, police officers make more than 50,000 traffic stops. Our team is gathering, analyzing, and releasing records from millions of traffic stops by law enforcement agencies across the country. Our goal is to help researchers, journalists, and policymakers investigate and improve interactions between police and the public."
   ]
  },
  {
   "cell_type": "markdown",
   "id": "345a9df2",
   "metadata": {},
   "source": [
    "## Data Analysis of Traffic Stops for the state of Rhode Island"
   ]
  },
  {
   "cell_type": "markdown",
   "id": "43e326b5",
   "metadata": {},
   "source": [
    "### Importing the required library"
   ]
  },
  {
   "cell_type": "code",
   "execution_count": 1,
   "id": "f32fc36f",
   "metadata": {},
   "outputs": [],
   "source": [
    "import pandas as pd\n",
    "import matplotlib.pyplot as plt\n",
    "%matplotlib inline"
   ]
  },
  {
   "cell_type": "markdown",
   "id": "6c124b4d",
   "metadata": {},
   "source": [
    "### Importing the datasets"
   ]
  },
  {
   "cell_type": "code",
   "execution_count": 2,
   "id": "064bdc89",
   "metadata": {},
   "outputs": [],
   "source": [
    "df=pd.read_csv('police.csv')"
   ]
  },
  {
   "cell_type": "markdown",
   "id": "66336fd0",
   "metadata": {},
   "source": [
    "* Check the first 5 column of the datasets"
   ]
  },
  {
   "cell_type": "code",
   "execution_count": 3,
   "id": "c7921787",
   "metadata": {},
   "outputs": [
    {
     "data": {
      "text/html": [
       "<div>\n",
       "<style scoped>\n",
       "    .dataframe tbody tr th:only-of-type {\n",
       "        vertical-align: middle;\n",
       "    }\n",
       "\n",
       "    .dataframe tbody tr th {\n",
       "        vertical-align: top;\n",
       "    }\n",
       "\n",
       "    .dataframe thead th {\n",
       "        text-align: right;\n",
       "    }\n",
       "</style>\n",
       "<table border=\"1\" class=\"dataframe\">\n",
       "  <thead>\n",
       "    <tr style=\"text-align: right;\">\n",
       "      <th></th>\n",
       "      <th>state</th>\n",
       "      <th>stop_date</th>\n",
       "      <th>stop_time</th>\n",
       "      <th>county_name</th>\n",
       "      <th>driver_gender</th>\n",
       "      <th>driver_race</th>\n",
       "      <th>violation_raw</th>\n",
       "      <th>violation</th>\n",
       "      <th>search_conducted</th>\n",
       "      <th>search_type</th>\n",
       "      <th>stop_outcome</th>\n",
       "      <th>is_arrested</th>\n",
       "      <th>stop_duration</th>\n",
       "      <th>drugs_related_stop</th>\n",
       "      <th>district</th>\n",
       "    </tr>\n",
       "  </thead>\n",
       "  <tbody>\n",
       "    <tr>\n",
       "      <th>0</th>\n",
       "      <td>RI</td>\n",
       "      <td>2005-01-04</td>\n",
       "      <td>12:55</td>\n",
       "      <td>NaN</td>\n",
       "      <td>M</td>\n",
       "      <td>White</td>\n",
       "      <td>Equipment/Inspection Violation</td>\n",
       "      <td>Equipment</td>\n",
       "      <td>False</td>\n",
       "      <td>NaN</td>\n",
       "      <td>Citation</td>\n",
       "      <td>False</td>\n",
       "      <td>0-15 Min</td>\n",
       "      <td>False</td>\n",
       "      <td>Zone X4</td>\n",
       "    </tr>\n",
       "    <tr>\n",
       "      <th>1</th>\n",
       "      <td>RI</td>\n",
       "      <td>2005-01-23</td>\n",
       "      <td>23:15</td>\n",
       "      <td>NaN</td>\n",
       "      <td>M</td>\n",
       "      <td>White</td>\n",
       "      <td>Speeding</td>\n",
       "      <td>Speeding</td>\n",
       "      <td>False</td>\n",
       "      <td>NaN</td>\n",
       "      <td>Citation</td>\n",
       "      <td>False</td>\n",
       "      <td>0-15 Min</td>\n",
       "      <td>False</td>\n",
       "      <td>Zone K3</td>\n",
       "    </tr>\n",
       "    <tr>\n",
       "      <th>2</th>\n",
       "      <td>RI</td>\n",
       "      <td>2005-02-17</td>\n",
       "      <td>04:15</td>\n",
       "      <td>NaN</td>\n",
       "      <td>M</td>\n",
       "      <td>White</td>\n",
       "      <td>Speeding</td>\n",
       "      <td>Speeding</td>\n",
       "      <td>False</td>\n",
       "      <td>NaN</td>\n",
       "      <td>Citation</td>\n",
       "      <td>False</td>\n",
       "      <td>0-15 Min</td>\n",
       "      <td>False</td>\n",
       "      <td>Zone X4</td>\n",
       "    </tr>\n",
       "    <tr>\n",
       "      <th>3</th>\n",
       "      <td>RI</td>\n",
       "      <td>2005-02-20</td>\n",
       "      <td>17:15</td>\n",
       "      <td>NaN</td>\n",
       "      <td>M</td>\n",
       "      <td>White</td>\n",
       "      <td>Call for Service</td>\n",
       "      <td>Other</td>\n",
       "      <td>False</td>\n",
       "      <td>NaN</td>\n",
       "      <td>Arrest Driver</td>\n",
       "      <td>True</td>\n",
       "      <td>16-30 Min</td>\n",
       "      <td>False</td>\n",
       "      <td>Zone X1</td>\n",
       "    </tr>\n",
       "    <tr>\n",
       "      <th>4</th>\n",
       "      <td>RI</td>\n",
       "      <td>2005-02-24</td>\n",
       "      <td>01:20</td>\n",
       "      <td>NaN</td>\n",
       "      <td>F</td>\n",
       "      <td>White</td>\n",
       "      <td>Speeding</td>\n",
       "      <td>Speeding</td>\n",
       "      <td>False</td>\n",
       "      <td>NaN</td>\n",
       "      <td>Citation</td>\n",
       "      <td>False</td>\n",
       "      <td>0-15 Min</td>\n",
       "      <td>False</td>\n",
       "      <td>Zone X3</td>\n",
       "    </tr>\n",
       "  </tbody>\n",
       "</table>\n",
       "</div>"
      ],
      "text/plain": [
       "  state   stop_date stop_time  county_name driver_gender driver_race  \\\n",
       "0    RI  2005-01-04     12:55          NaN             M       White   \n",
       "1    RI  2005-01-23     23:15          NaN             M       White   \n",
       "2    RI  2005-02-17     04:15          NaN             M       White   \n",
       "3    RI  2005-02-20     17:15          NaN             M       White   \n",
       "4    RI  2005-02-24     01:20          NaN             F       White   \n",
       "\n",
       "                    violation_raw  violation  search_conducted search_type  \\\n",
       "0  Equipment/Inspection Violation  Equipment             False         NaN   \n",
       "1                        Speeding   Speeding             False         NaN   \n",
       "2                        Speeding   Speeding             False         NaN   \n",
       "3                Call for Service      Other             False         NaN   \n",
       "4                        Speeding   Speeding             False         NaN   \n",
       "\n",
       "    stop_outcome is_arrested stop_duration  drugs_related_stop district  \n",
       "0       Citation       False      0-15 Min               False  Zone X4  \n",
       "1       Citation       False      0-15 Min               False  Zone K3  \n",
       "2       Citation       False      0-15 Min               False  Zone X4  \n",
       "3  Arrest Driver        True     16-30 Min               False  Zone X1  \n",
       "4       Citation       False      0-15 Min               False  Zone X3  "
      ]
     },
     "execution_count": 3,
     "metadata": {},
     "output_type": "execute_result"
    }
   ],
   "source": [
    "df.head()"
   ]
  },
  {
   "cell_type": "code",
   "execution_count": 4,
   "id": "7b9e3731",
   "metadata": {},
   "outputs": [],
   "source": [
    "rows,columns=df.shape"
   ]
  },
  {
   "cell_type": "code",
   "execution_count": 5,
   "id": "db85f2b8",
   "metadata": {},
   "outputs": [
    {
     "data": {
      "text/plain": [
       "91741"
      ]
     },
     "execution_count": 5,
     "metadata": {},
     "output_type": "execute_result"
    }
   ],
   "source": [
    "rows"
   ]
  },
  {
   "cell_type": "code",
   "execution_count": 6,
   "id": "c62a850c",
   "metadata": {},
   "outputs": [
    {
     "data": {
      "text/plain": [
       "15"
      ]
     },
     "execution_count": 6,
     "metadata": {},
     "output_type": "execute_result"
    }
   ],
   "source": [
    "columns"
   ]
  },
  {
   "cell_type": "markdown",
   "id": "7942110e",
   "metadata": {},
   "source": [
    "# Check for the missing value in the datasets"
   ]
  },
  {
   "cell_type": "code",
   "execution_count": 7,
   "id": "9facf094",
   "metadata": {},
   "outputs": [
    {
     "data": {
      "text/plain": [
       "state                     0\n",
       "stop_date                 0\n",
       "stop_time                 0\n",
       "county_name           91741\n",
       "driver_gender          5205\n",
       "driver_race            5202\n",
       "violation_raw          5202\n",
       "violation              5202\n",
       "search_conducted          0\n",
       "search_type           88434\n",
       "stop_outcome           5202\n",
       "is_arrested            5202\n",
       "stop_duration          5202\n",
       "drugs_related_stop        0\n",
       "district                  0\n",
       "dtype: int64"
      ]
     },
     "execution_count": 7,
     "metadata": {},
     "output_type": "execute_result"
    }
   ],
   "source": [
    "df.isnull().sum()"
   ]
  },
  {
   "cell_type": "code",
   "execution_count": 8,
   "id": "e312b30e",
   "metadata": {},
   "outputs": [
    {
     "data": {
      "text/plain": [
       "RI    91741\n",
       "Name: state, dtype: int64"
      ]
     },
     "execution_count": 8,
     "metadata": {},
     "output_type": "execute_result"
    }
   ],
   "source": [
    "df['state'].value_counts()"
   ]
  },
  {
   "cell_type": "markdown",
   "id": "ff623c06",
   "metadata": {},
   "source": [
    "* As i can see that not a single value is present for the country column, and for the state value is same throughout the datasets and I know that we are doing data analysis for Rhode Island.\n",
    "* So, simply I can drop these columns from the datasets, because it has no importance for feature engineering"
   ]
  },
  {
   "cell_type": "code",
   "execution_count": 9,
   "id": "cb0dea31",
   "metadata": {},
   "outputs": [],
   "source": [
    "df.drop(['county_name','state'],axis=1,inplace=True)"
   ]
  },
  {
   "cell_type": "code",
   "execution_count": 10,
   "id": "3f13f598",
   "metadata": {},
   "outputs": [
    {
     "data": {
      "text/html": [
       "<div>\n",
       "<style scoped>\n",
       "    .dataframe tbody tr th:only-of-type {\n",
       "        vertical-align: middle;\n",
       "    }\n",
       "\n",
       "    .dataframe tbody tr th {\n",
       "        vertical-align: top;\n",
       "    }\n",
       "\n",
       "    .dataframe thead th {\n",
       "        text-align: right;\n",
       "    }\n",
       "</style>\n",
       "<table border=\"1\" class=\"dataframe\">\n",
       "  <thead>\n",
       "    <tr style=\"text-align: right;\">\n",
       "      <th></th>\n",
       "      <th>stop_date</th>\n",
       "      <th>stop_time</th>\n",
       "      <th>driver_gender</th>\n",
       "      <th>driver_race</th>\n",
       "      <th>violation_raw</th>\n",
       "      <th>violation</th>\n",
       "      <th>search_conducted</th>\n",
       "      <th>search_type</th>\n",
       "      <th>stop_outcome</th>\n",
       "      <th>is_arrested</th>\n",
       "      <th>stop_duration</th>\n",
       "      <th>drugs_related_stop</th>\n",
       "      <th>district</th>\n",
       "    </tr>\n",
       "  </thead>\n",
       "  <tbody>\n",
       "    <tr>\n",
       "      <th>0</th>\n",
       "      <td>2005-01-04</td>\n",
       "      <td>12:55</td>\n",
       "      <td>M</td>\n",
       "      <td>White</td>\n",
       "      <td>Equipment/Inspection Violation</td>\n",
       "      <td>Equipment</td>\n",
       "      <td>False</td>\n",
       "      <td>NaN</td>\n",
       "      <td>Citation</td>\n",
       "      <td>False</td>\n",
       "      <td>0-15 Min</td>\n",
       "      <td>False</td>\n",
       "      <td>Zone X4</td>\n",
       "    </tr>\n",
       "    <tr>\n",
       "      <th>1</th>\n",
       "      <td>2005-01-23</td>\n",
       "      <td>23:15</td>\n",
       "      <td>M</td>\n",
       "      <td>White</td>\n",
       "      <td>Speeding</td>\n",
       "      <td>Speeding</td>\n",
       "      <td>False</td>\n",
       "      <td>NaN</td>\n",
       "      <td>Citation</td>\n",
       "      <td>False</td>\n",
       "      <td>0-15 Min</td>\n",
       "      <td>False</td>\n",
       "      <td>Zone K3</td>\n",
       "    </tr>\n",
       "    <tr>\n",
       "      <th>2</th>\n",
       "      <td>2005-02-17</td>\n",
       "      <td>04:15</td>\n",
       "      <td>M</td>\n",
       "      <td>White</td>\n",
       "      <td>Speeding</td>\n",
       "      <td>Speeding</td>\n",
       "      <td>False</td>\n",
       "      <td>NaN</td>\n",
       "      <td>Citation</td>\n",
       "      <td>False</td>\n",
       "      <td>0-15 Min</td>\n",
       "      <td>False</td>\n",
       "      <td>Zone X4</td>\n",
       "    </tr>\n",
       "    <tr>\n",
       "      <th>3</th>\n",
       "      <td>2005-02-20</td>\n",
       "      <td>17:15</td>\n",
       "      <td>M</td>\n",
       "      <td>White</td>\n",
       "      <td>Call for Service</td>\n",
       "      <td>Other</td>\n",
       "      <td>False</td>\n",
       "      <td>NaN</td>\n",
       "      <td>Arrest Driver</td>\n",
       "      <td>True</td>\n",
       "      <td>16-30 Min</td>\n",
       "      <td>False</td>\n",
       "      <td>Zone X1</td>\n",
       "    </tr>\n",
       "    <tr>\n",
       "      <th>4</th>\n",
       "      <td>2005-02-24</td>\n",
       "      <td>01:20</td>\n",
       "      <td>F</td>\n",
       "      <td>White</td>\n",
       "      <td>Speeding</td>\n",
       "      <td>Speeding</td>\n",
       "      <td>False</td>\n",
       "      <td>NaN</td>\n",
       "      <td>Citation</td>\n",
       "      <td>False</td>\n",
       "      <td>0-15 Min</td>\n",
       "      <td>False</td>\n",
       "      <td>Zone X3</td>\n",
       "    </tr>\n",
       "    <tr>\n",
       "      <th>...</th>\n",
       "      <td>...</td>\n",
       "      <td>...</td>\n",
       "      <td>...</td>\n",
       "      <td>...</td>\n",
       "      <td>...</td>\n",
       "      <td>...</td>\n",
       "      <td>...</td>\n",
       "      <td>...</td>\n",
       "      <td>...</td>\n",
       "      <td>...</td>\n",
       "      <td>...</td>\n",
       "      <td>...</td>\n",
       "      <td>...</td>\n",
       "    </tr>\n",
       "    <tr>\n",
       "      <th>91736</th>\n",
       "      <td>2015-12-31</td>\n",
       "      <td>21:21</td>\n",
       "      <td>F</td>\n",
       "      <td>Black</td>\n",
       "      <td>Other Traffic Violation</td>\n",
       "      <td>Moving violation</td>\n",
       "      <td>False</td>\n",
       "      <td>NaN</td>\n",
       "      <td>Citation</td>\n",
       "      <td>False</td>\n",
       "      <td>0-15 Min</td>\n",
       "      <td>False</td>\n",
       "      <td>Zone K2</td>\n",
       "    </tr>\n",
       "    <tr>\n",
       "      <th>91737</th>\n",
       "      <td>2015-12-31</td>\n",
       "      <td>21:59</td>\n",
       "      <td>F</td>\n",
       "      <td>White</td>\n",
       "      <td>Speeding</td>\n",
       "      <td>Speeding</td>\n",
       "      <td>False</td>\n",
       "      <td>NaN</td>\n",
       "      <td>Citation</td>\n",
       "      <td>False</td>\n",
       "      <td>0-15 Min</td>\n",
       "      <td>False</td>\n",
       "      <td>Zone K3</td>\n",
       "    </tr>\n",
       "    <tr>\n",
       "      <th>91738</th>\n",
       "      <td>2015-12-31</td>\n",
       "      <td>22:04</td>\n",
       "      <td>M</td>\n",
       "      <td>White</td>\n",
       "      <td>Other Traffic Violation</td>\n",
       "      <td>Moving violation</td>\n",
       "      <td>False</td>\n",
       "      <td>NaN</td>\n",
       "      <td>Citation</td>\n",
       "      <td>False</td>\n",
       "      <td>0-15 Min</td>\n",
       "      <td>False</td>\n",
       "      <td>Zone X3</td>\n",
       "    </tr>\n",
       "    <tr>\n",
       "      <th>91739</th>\n",
       "      <td>2015-12-31</td>\n",
       "      <td>22:09</td>\n",
       "      <td>F</td>\n",
       "      <td>Hispanic</td>\n",
       "      <td>Equipment/Inspection Violation</td>\n",
       "      <td>Equipment</td>\n",
       "      <td>False</td>\n",
       "      <td>NaN</td>\n",
       "      <td>Warning</td>\n",
       "      <td>False</td>\n",
       "      <td>0-15 Min</td>\n",
       "      <td>False</td>\n",
       "      <td>Zone K3</td>\n",
       "    </tr>\n",
       "    <tr>\n",
       "      <th>91740</th>\n",
       "      <td>2015-12-31</td>\n",
       "      <td>22:47</td>\n",
       "      <td>M</td>\n",
       "      <td>White</td>\n",
       "      <td>Registration Violation</td>\n",
       "      <td>Registration/plates</td>\n",
       "      <td>False</td>\n",
       "      <td>NaN</td>\n",
       "      <td>Citation</td>\n",
       "      <td>False</td>\n",
       "      <td>0-15 Min</td>\n",
       "      <td>False</td>\n",
       "      <td>Zone X4</td>\n",
       "    </tr>\n",
       "  </tbody>\n",
       "</table>\n",
       "<p>91741 rows × 13 columns</p>\n",
       "</div>"
      ],
      "text/plain": [
       "        stop_date stop_time driver_gender driver_race  \\\n",
       "0      2005-01-04     12:55             M       White   \n",
       "1      2005-01-23     23:15             M       White   \n",
       "2      2005-02-17     04:15             M       White   \n",
       "3      2005-02-20     17:15             M       White   \n",
       "4      2005-02-24     01:20             F       White   \n",
       "...           ...       ...           ...         ...   \n",
       "91736  2015-12-31     21:21             F       Black   \n",
       "91737  2015-12-31     21:59             F       White   \n",
       "91738  2015-12-31     22:04             M       White   \n",
       "91739  2015-12-31     22:09             F    Hispanic   \n",
       "91740  2015-12-31     22:47             M       White   \n",
       "\n",
       "                        violation_raw            violation  search_conducted  \\\n",
       "0      Equipment/Inspection Violation            Equipment             False   \n",
       "1                            Speeding             Speeding             False   \n",
       "2                            Speeding             Speeding             False   \n",
       "3                    Call for Service                Other             False   \n",
       "4                            Speeding             Speeding             False   \n",
       "...                               ...                  ...               ...   \n",
       "91736         Other Traffic Violation     Moving violation             False   \n",
       "91737                        Speeding             Speeding             False   \n",
       "91738         Other Traffic Violation     Moving violation             False   \n",
       "91739  Equipment/Inspection Violation            Equipment             False   \n",
       "91740          Registration Violation  Registration/plates             False   \n",
       "\n",
       "      search_type   stop_outcome is_arrested stop_duration  \\\n",
       "0             NaN       Citation       False      0-15 Min   \n",
       "1             NaN       Citation       False      0-15 Min   \n",
       "2             NaN       Citation       False      0-15 Min   \n",
       "3             NaN  Arrest Driver        True     16-30 Min   \n",
       "4             NaN       Citation       False      0-15 Min   \n",
       "...           ...            ...         ...           ...   \n",
       "91736         NaN       Citation       False      0-15 Min   \n",
       "91737         NaN       Citation       False      0-15 Min   \n",
       "91738         NaN       Citation       False      0-15 Min   \n",
       "91739         NaN        Warning       False      0-15 Min   \n",
       "91740         NaN       Citation       False      0-15 Min   \n",
       "\n",
       "       drugs_related_stop district  \n",
       "0                   False  Zone X4  \n",
       "1                   False  Zone K3  \n",
       "2                   False  Zone X4  \n",
       "3                   False  Zone X1  \n",
       "4                   False  Zone X3  \n",
       "...                   ...      ...  \n",
       "91736               False  Zone K2  \n",
       "91737               False  Zone K3  \n",
       "91738               False  Zone X3  \n",
       "91739               False  Zone K3  \n",
       "91740               False  Zone X4  \n",
       "\n",
       "[91741 rows x 13 columns]"
      ]
     },
     "execution_count": 10,
     "metadata": {},
     "output_type": "execute_result"
    }
   ],
   "source": [
    "df"
   ]
  },
  {
   "cell_type": "markdown",
   "id": "ba96b88f",
   "metadata": {},
   "source": [
    "* For doing the data analysis, I want the driver_gender,stop_date and stop_time\n",
    "* I can see that in driver_gender the column has null value\n",
    "* So, I can drop these column as I have the sufficient datasets"
   ]
  },
  {
   "cell_type": "code",
   "execution_count": 11,
   "id": "67278cf4",
   "metadata": {},
   "outputs": [],
   "source": [
    "df.dropna(subset=['stop_date', 'stop_time','driver_gender'], inplace=True)"
   ]
  },
  {
   "cell_type": "markdown",
   "id": "5ffd5e13",
   "metadata": {},
   "source": [
    "### Checking this missing value again"
   ]
  },
  {
   "cell_type": "code",
   "execution_count": 12,
   "id": "63bc12fd",
   "metadata": {},
   "outputs": [
    {
     "data": {
      "text/plain": [
       "stop_date                 0\n",
       "stop_time                 0\n",
       "driver_gender             0\n",
       "driver_race               0\n",
       "violation_raw             0\n",
       "violation                 0\n",
       "search_conducted          0\n",
       "search_type           83229\n",
       "stop_outcome              0\n",
       "is_arrested               0\n",
       "stop_duration             0\n",
       "drugs_related_stop        0\n",
       "district                  0\n",
       "dtype: int64"
      ]
     },
     "execution_count": 12,
     "metadata": {},
     "output_type": "execute_result"
    }
   ],
   "source": [
    "df.isnull().sum()"
   ]
  },
  {
   "cell_type": "markdown",
   "id": "dd942a15",
   "metadata": {},
   "source": [
    "## Shape of the datasets"
   ]
  },
  {
   "cell_type": "code",
   "execution_count": 13,
   "id": "7f30f2f6",
   "metadata": {},
   "outputs": [
    {
     "data": {
      "text/plain": [
       "(86536, 13)"
      ]
     },
     "execution_count": 13,
     "metadata": {},
     "output_type": "execute_result"
    }
   ],
   "source": [
    "df.shape"
   ]
  },
  {
   "cell_type": "markdown",
   "id": "2964654c",
   "metadata": {},
   "source": [
    "## Check the datatype of all the columns"
   ]
  },
  {
   "cell_type": "code",
   "execution_count": 14,
   "id": "9fac6cb8",
   "metadata": {},
   "outputs": [
    {
     "data": {
      "text/plain": [
       "stop_date             object\n",
       "stop_time             object\n",
       "driver_gender         object\n",
       "driver_race           object\n",
       "violation_raw         object\n",
       "violation             object\n",
       "search_conducted        bool\n",
       "search_type           object\n",
       "stop_outcome          object\n",
       "is_arrested           object\n",
       "stop_duration         object\n",
       "drugs_related_stop      bool\n",
       "district              object\n",
       "dtype: object"
      ]
     },
     "execution_count": 14,
     "metadata": {},
     "output_type": "execute_result"
    }
   ],
   "source": [
    "df.dtypes"
   ]
  },
  {
   "cell_type": "markdown",
   "id": "b92d9b87",
   "metadata": {},
   "source": [
    "## for the column is_arrested it has a datatype of object type so,  We need to convert this into boolean datatype"
   ]
  },
  {
   "cell_type": "code",
   "execution_count": 15,
   "id": "aa83889f",
   "metadata": {},
   "outputs": [],
   "source": [
    "df['is_arrested']=df['is_arrested'].astype('bool')"
   ]
  },
  {
   "cell_type": "markdown",
   "id": "0637f65a",
   "metadata": {},
   "source": [
    "### Now we want to create Datetime Index using stop date and stop time columns we will first combines these columns and then convert it into datetime and then will set index"
   ]
  },
  {
   "cell_type": "code",
   "execution_count": 16,
   "id": "243a90ee",
   "metadata": {},
   "outputs": [
    {
     "name": "stdout",
     "output_type": "stream",
     "text": [
      "DatetimeIndex(['2005-01-04 12:55:00', '2005-01-23 23:15:00',\n",
      "               '2005-02-17 04:15:00', '2005-02-20 17:15:00',\n",
      "               '2005-02-24 01:20:00', '2005-03-14 10:00:00',\n",
      "               '2005-03-29 21:55:00', '2005-04-04 21:25:00',\n",
      "               '2005-07-14 11:20:00', '2005-07-14 19:55:00',\n",
      "               ...\n",
      "               '2015-12-31 13:23:00', '2015-12-31 18:59:00',\n",
      "               '2015-12-31 19:13:00', '2015-12-31 20:20:00',\n",
      "               '2015-12-31 20:50:00', '2015-12-31 21:21:00',\n",
      "               '2015-12-31 21:59:00', '2015-12-31 22:04:00',\n",
      "               '2015-12-31 22:09:00', '2015-12-31 22:47:00'],\n",
      "              dtype='datetime64[ns]', name='stop_datetime', length=86536, freq=None)\n",
      "Index(['stop_date', 'stop_time', 'driver_gender', 'driver_race',\n",
      "       'violation_raw', 'violation', 'search_conducted', 'search_type',\n",
      "       'stop_outcome', 'is_arrested', 'stop_duration', 'drugs_related_stop',\n",
      "       'district'],\n",
      "      dtype='object')\n"
     ]
    }
   ],
   "source": [
    "combined = df.stop_date.str.cat(df.stop_time,sep=' ')\n",
    "df['stop_datetime'] = pd.to_datetime(combined)\n",
    "df.set_index('stop_datetime', inplace=True)\n",
    "print(df.index)\n",
    "print(df.columns)"
   ]
  },
  {
   "cell_type": "markdown",
   "id": "ad5db173",
   "metadata": {},
   "source": [
    "# Let's check the data once again"
   ]
  },
  {
   "cell_type": "code",
   "execution_count": 17,
   "id": "42abafc4",
   "metadata": {},
   "outputs": [
    {
     "data": {
      "text/html": [
       "<div>\n",
       "<style scoped>\n",
       "    .dataframe tbody tr th:only-of-type {\n",
       "        vertical-align: middle;\n",
       "    }\n",
       "\n",
       "    .dataframe tbody tr th {\n",
       "        vertical-align: top;\n",
       "    }\n",
       "\n",
       "    .dataframe thead th {\n",
       "        text-align: right;\n",
       "    }\n",
       "</style>\n",
       "<table border=\"1\" class=\"dataframe\">\n",
       "  <thead>\n",
       "    <tr style=\"text-align: right;\">\n",
       "      <th></th>\n",
       "      <th>stop_date</th>\n",
       "      <th>stop_time</th>\n",
       "      <th>driver_gender</th>\n",
       "      <th>driver_race</th>\n",
       "      <th>violation_raw</th>\n",
       "      <th>violation</th>\n",
       "      <th>search_conducted</th>\n",
       "      <th>search_type</th>\n",
       "      <th>stop_outcome</th>\n",
       "      <th>is_arrested</th>\n",
       "      <th>stop_duration</th>\n",
       "      <th>drugs_related_stop</th>\n",
       "      <th>district</th>\n",
       "    </tr>\n",
       "    <tr>\n",
       "      <th>stop_datetime</th>\n",
       "      <th></th>\n",
       "      <th></th>\n",
       "      <th></th>\n",
       "      <th></th>\n",
       "      <th></th>\n",
       "      <th></th>\n",
       "      <th></th>\n",
       "      <th></th>\n",
       "      <th></th>\n",
       "      <th></th>\n",
       "      <th></th>\n",
       "      <th></th>\n",
       "      <th></th>\n",
       "    </tr>\n",
       "  </thead>\n",
       "  <tbody>\n",
       "    <tr>\n",
       "      <th>2005-01-04 12:55:00</th>\n",
       "      <td>2005-01-04</td>\n",
       "      <td>12:55</td>\n",
       "      <td>M</td>\n",
       "      <td>White</td>\n",
       "      <td>Equipment/Inspection Violation</td>\n",
       "      <td>Equipment</td>\n",
       "      <td>False</td>\n",
       "      <td>NaN</td>\n",
       "      <td>Citation</td>\n",
       "      <td>False</td>\n",
       "      <td>0-15 Min</td>\n",
       "      <td>False</td>\n",
       "      <td>Zone X4</td>\n",
       "    </tr>\n",
       "    <tr>\n",
       "      <th>2005-01-23 23:15:00</th>\n",
       "      <td>2005-01-23</td>\n",
       "      <td>23:15</td>\n",
       "      <td>M</td>\n",
       "      <td>White</td>\n",
       "      <td>Speeding</td>\n",
       "      <td>Speeding</td>\n",
       "      <td>False</td>\n",
       "      <td>NaN</td>\n",
       "      <td>Citation</td>\n",
       "      <td>False</td>\n",
       "      <td>0-15 Min</td>\n",
       "      <td>False</td>\n",
       "      <td>Zone K3</td>\n",
       "    </tr>\n",
       "    <tr>\n",
       "      <th>2005-02-17 04:15:00</th>\n",
       "      <td>2005-02-17</td>\n",
       "      <td>04:15</td>\n",
       "      <td>M</td>\n",
       "      <td>White</td>\n",
       "      <td>Speeding</td>\n",
       "      <td>Speeding</td>\n",
       "      <td>False</td>\n",
       "      <td>NaN</td>\n",
       "      <td>Citation</td>\n",
       "      <td>False</td>\n",
       "      <td>0-15 Min</td>\n",
       "      <td>False</td>\n",
       "      <td>Zone X4</td>\n",
       "    </tr>\n",
       "    <tr>\n",
       "      <th>2005-02-20 17:15:00</th>\n",
       "      <td>2005-02-20</td>\n",
       "      <td>17:15</td>\n",
       "      <td>M</td>\n",
       "      <td>White</td>\n",
       "      <td>Call for Service</td>\n",
       "      <td>Other</td>\n",
       "      <td>False</td>\n",
       "      <td>NaN</td>\n",
       "      <td>Arrest Driver</td>\n",
       "      <td>True</td>\n",
       "      <td>16-30 Min</td>\n",
       "      <td>False</td>\n",
       "      <td>Zone X1</td>\n",
       "    </tr>\n",
       "    <tr>\n",
       "      <th>2005-02-24 01:20:00</th>\n",
       "      <td>2005-02-24</td>\n",
       "      <td>01:20</td>\n",
       "      <td>F</td>\n",
       "      <td>White</td>\n",
       "      <td>Speeding</td>\n",
       "      <td>Speeding</td>\n",
       "      <td>False</td>\n",
       "      <td>NaN</td>\n",
       "      <td>Citation</td>\n",
       "      <td>False</td>\n",
       "      <td>0-15 Min</td>\n",
       "      <td>False</td>\n",
       "      <td>Zone X3</td>\n",
       "    </tr>\n",
       "  </tbody>\n",
       "</table>\n",
       "</div>"
      ],
      "text/plain": [
       "                      stop_date stop_time driver_gender driver_race  \\\n",
       "stop_datetime                                                         \n",
       "2005-01-04 12:55:00  2005-01-04     12:55             M       White   \n",
       "2005-01-23 23:15:00  2005-01-23     23:15             M       White   \n",
       "2005-02-17 04:15:00  2005-02-17     04:15             M       White   \n",
       "2005-02-20 17:15:00  2005-02-20     17:15             M       White   \n",
       "2005-02-24 01:20:00  2005-02-24     01:20             F       White   \n",
       "\n",
       "                                      violation_raw  violation  \\\n",
       "stop_datetime                                                    \n",
       "2005-01-04 12:55:00  Equipment/Inspection Violation  Equipment   \n",
       "2005-01-23 23:15:00                        Speeding   Speeding   \n",
       "2005-02-17 04:15:00                        Speeding   Speeding   \n",
       "2005-02-20 17:15:00                Call for Service      Other   \n",
       "2005-02-24 01:20:00                        Speeding   Speeding   \n",
       "\n",
       "                     search_conducted search_type   stop_outcome  is_arrested  \\\n",
       "stop_datetime                                                                   \n",
       "2005-01-04 12:55:00             False         NaN       Citation        False   \n",
       "2005-01-23 23:15:00             False         NaN       Citation        False   \n",
       "2005-02-17 04:15:00             False         NaN       Citation        False   \n",
       "2005-02-20 17:15:00             False         NaN  Arrest Driver         True   \n",
       "2005-02-24 01:20:00             False         NaN       Citation        False   \n",
       "\n",
       "                    stop_duration  drugs_related_stop district  \n",
       "stop_datetime                                                   \n",
       "2005-01-04 12:55:00      0-15 Min               False  Zone X4  \n",
       "2005-01-23 23:15:00      0-15 Min               False  Zone K3  \n",
       "2005-02-17 04:15:00      0-15 Min               False  Zone X4  \n",
       "2005-02-20 17:15:00     16-30 Min               False  Zone X1  \n",
       "2005-02-24 01:20:00      0-15 Min               False  Zone X3  "
      ]
     },
     "execution_count": 17,
     "metadata": {},
     "output_type": "execute_result"
    }
   ],
   "source": [
    "df.head(5)"
   ]
  },
  {
   "cell_type": "markdown",
   "id": "5473f318",
   "metadata": {},
   "source": [
    "* Now the data is ready with the stop_datetime index and the cleaned datasets"
   ]
  },
  {
   "cell_type": "markdown",
   "id": "9ed6d0f5",
   "metadata": {},
   "source": [
    " ## Let's analyze violation column"
   ]
  },
  {
   "cell_type": "code",
   "execution_count": 18,
   "id": "5da20910",
   "metadata": {},
   "outputs": [
    {
     "data": {
      "text/plain": [
       "<AxesSubplot:>"
      ]
     },
     "execution_count": 18,
     "metadata": {},
     "output_type": "execute_result"
    },
    {
     "data": {
      "image/png": "[encoded data removed]",
      "text/plain": [
       "<Figure size 432x288 with 1 Axes>"
      ]
     },
     "metadata": {
      "needs_background": "light"
     },
     "output_type": "display_data"
    }
   ],
   "source": [
    "df.violation.value_counts().sort_values(ascending=False).plot(kind='bar',color='b')"
   ]
  },
  {
   "cell_type": "markdown",
   "id": "082ee709",
   "metadata": {},
   "source": [
    "* I can see that speed is one of the parameter which causes more violation"
   ]
  },
  {
   "cell_type": "markdown",
   "id": "99cd567d",
   "metadata": {},
   "source": [
    "## Let's check the relative frequency of violation"
   ]
  },
  {
   "cell_type": "code",
   "execution_count": 19,
   "id": "9be84f7e",
   "metadata": {},
   "outputs": [
    {
     "data": {
      "text/plain": [
       "Speeding               0.559571\n",
       "Moving violation       0.187483\n",
       "Equipment              0.126202\n",
       "Other                  0.050950\n",
       "Registration/plates    0.042791\n",
       "Seat belt              0.033004\n",
       "Name: violation, dtype: float64"
      ]
     },
     "execution_count": 19,
     "metadata": {},
     "output_type": "execute_result"
    }
   ],
   "source": [
    "df.violation.value_counts(normalize=True)"
   ]
  },
  {
   "cell_type": "markdown",
   "id": "1c25ffbb",
   "metadata": {},
   "source": [
    "* So, I can see that speeding has nearly 56% responsible which causes violation of the traffic"
   ]
  },
  {
   "cell_type": "markdown",
   "id": "fc070f70",
   "metadata": {},
   "source": [
    "# Let's  Analyze by Gender"
   ]
  },
  {
   "cell_type": "code",
   "execution_count": 20,
   "id": "47df6d47",
   "metadata": {},
   "outputs": [
    {
     "data": {
      "image/png": "[encoded data removed]",
      "text/plain": [
       "<Figure size 432x288 with 1 Axes>"
      ]
     },
     "metadata": {
      "needs_background": "light"
     },
     "output_type": "display_data"
    }
   ],
   "source": [
    "male = df[df['driver_gender']=='M']\n",
    "M1=male.violation.value_counts().sort_values()\n",
    "female = df[df['driver_gender']=='F']\n",
    "F1=female.violation.value_counts().sort_values()\n",
    "df1=pd.concat([F1,M1],axis='columns')\n",
    "\n",
    "fig, ax = plt.subplots()\n",
    "df1.plot(kind='bar',ax=ax)\n",
    "ax.legend([\"Female\", \"Male\"]);"
   ]
  },
  {
   "cell_type": "markdown",
   "id": "bd7ff1ca",
   "metadata": {},
   "source": [
    "##  Let's have a look in police action after violating by speeding"
   ]
  },
  {
   "cell_type": "code",
   "execution_count": 21,
   "id": "d1b35b71",
   "metadata": {},
   "outputs": [
    {
     "data": {
      "text/plain": [
       "<AxesSubplot:>"
      ]
     },
     "execution_count": 21,
     "metadata": {},
     "output_type": "execute_result"
    },
    {
     "data": {
      "image/png": "[encoded data removed]",
      "text/plain": [
       "<Figure size 432x288 with 1 Axes>"
      ]
     },
     "metadata": {
      "needs_background": "light"
     },
     "output_type": "display_data"
    }
   ],
   "source": [
    "male_and_speeding = df[(df.driver_gender == 'M') &\n",
    "(df.violation == 'Speeding')]\n",
    "\n",
    "male_and_speeding.stop_outcome.value_counts().sort_values().plot(kind='barh',color='b')"
   ]
  },
  {
   "cell_type": "markdown",
   "id": "d2c56de6",
   "metadata": {},
   "source": [
    "### Let's check if the driver has violated the law then he/she has arrested or not"
   ]
  },
  {
   "cell_type": "code",
   "execution_count": 22,
   "id": "e1ecaced",
   "metadata": {},
   "outputs": [
    {
     "data": {
      "text/plain": [
       "<AxesSubplot:ylabel='is_arrested'>"
      ]
     },
     "execution_count": 22,
     "metadata": {},
     "output_type": "execute_result"
    },
    {
     "data": {
      "image/png": "[encoded data removed]",
      "text/plain": [
       "<Figure size 432x288 with 1 Axes>"
      ]
     },
     "metadata": {},
     "output_type": "display_data"
    }
   ],
   "source": [
    "df.is_arrested.value_counts(normalize=True).plot(kind='pie',autopct='%0.01f%%')"
   ]
  },
  {
   "cell_type": "markdown",
   "id": "ed64ca15",
   "metadata": {},
   "source": [
    "* I can see that only 3.6% of the driver has been arrested"
   ]
  },
  {
   "cell_type": "markdown",
   "id": "b7ac2b1b",
   "metadata": {},
   "source": [
    "## Let's check the arrested by district wise in the state"
   ]
  },
  {
   "cell_type": "code",
   "execution_count": 23,
   "id": "18340b02",
   "metadata": {},
   "outputs": [
    {
     "data": {
      "text/plain": [
       "<AxesSubplot:ylabel='district,is_arrested'>"
      ]
     },
     "execution_count": 23,
     "metadata": {},
     "output_type": "execute_result"
    },
    {
     "data": {
      "image/png": "[encoded data removed]",
      "text/plain": [
       "<Figure size 432x288 with 1 Axes>"
      ]
     },
     "metadata": {
      "needs_background": "light"
     },
     "output_type": "display_data"
    }
   ],
   "source": [
    "df.groupby('district')['is_arrested'].value_counts().plot(kind='barh')"
   ]
  },
  {
   "cell_type": "markdown",
   "id": "9a882933",
   "metadata": {},
   "source": [
    "## Let's check if the police is stopping the vehicle then he is checking or not"
   ]
  },
  {
   "cell_type": "code",
   "execution_count": 24,
   "id": "06c477f9",
   "metadata": {},
   "outputs": [
    {
     "data": {
      "text/plain": [
       "False    0.961785\n",
       "True     0.038215\n",
       "Name: search_conducted, dtype: float64"
      ]
     },
     "execution_count": 24,
     "metadata": {},
     "output_type": "execute_result"
    }
   ],
   "source": [
    "df['search_conducted'].value_counts(normalize=True)"
   ]
  },
  {
   "cell_type": "markdown",
   "id": "7e726762",
   "metadata": {},
   "source": [
    "* So, I can see that onlly 3.8% of the time, Police is cheking the vehicle"
   ]
  },
  {
   "cell_type": "markdown",
   "id": "f75e12a1",
   "metadata": {},
   "source": [
    "## Let's have a look on search_conducted by Gender-wise"
   ]
  },
  {
   "cell_type": "code",
   "execution_count": 25,
   "id": "5074ed9e",
   "metadata": {},
   "outputs": [
    {
     "data": {
      "text/plain": [
       "driver_gender  search_conducted\n",
       "F              False               0.980819\n",
       "               True                0.019181\n",
       "M              False               0.954574\n",
       "               True                0.045426\n",
       "Name: search_conducted, dtype: float64"
      ]
     },
     "execution_count": 25,
     "metadata": {},
     "output_type": "execute_result"
    }
   ],
   "source": [
    "df.groupby('driver_gender').search_conducted.value_counts(normalize=True)"
   ]
  },
  {
   "cell_type": "markdown",
   "id": "16ad3435",
   "metadata": {},
   "source": [
    "* I can see that male has checked more than the female"
   ]
  },
  {
   "cell_type": "markdown",
   "id": "a2ac5319",
   "metadata": {},
   "source": [
    "## let's have a look on the arrest rate by time of the day"
   ]
  },
  {
   "cell_type": "code",
   "execution_count": 26,
   "id": "76c03e7d",
   "metadata": {},
   "outputs": [
    {
     "data": {
      "image/png": "[encoded data removed]",
      "text/plain": [
       "<Figure size 432x288 with 1 Axes>"
      ]
     },
     "metadata": {
      "needs_background": "light"
     },
     "output_type": "display_data"
    }
   ],
   "source": [
    "hourly_arrest_rate=df.groupby(df.index.hour).is_arrested.mean()\n",
    "\n",
    "\n",
    "plt.plot(hourly_arrest_rate,'c')\n",
    "plt.xlabel('Hour')\n",
    "plt.ylabel('Arrest Rate')\n",
    "plt.title('Arrest Rate by Time of Day')\n",
    "plt.show()"
   ]
  },
  {
   "cell_type": "markdown",
   "id": "acc509a9",
   "metadata": {},
   "source": [
    "* Now, I can see that in night time, arrest rate is higher"
   ]
  },
  {
   "cell_type": "markdown",
   "id": "a827ee96",
   "metadata": {},
   "source": [
    "## Now,let's check the drug related stop"
   ]
  },
  {
   "cell_type": "code",
   "execution_count": 27,
   "id": "7ab6bf17",
   "metadata": {},
   "outputs": [
    {
     "data": {
      "text/plain": [
       "Text(0, 0.5, 'Drug related Stops')"
      ]
     },
     "execution_count": 27,
     "metadata": {},
     "output_type": "execute_result"
    },
    {
     "data": {
      "image/png": "[encoded data removed]",
      "text/plain": [
       "<Figure size 432x288 with 1 Axes>"
      ]
     },
     "metadata": {
      "needs_background": "light"
     },
     "output_type": "display_data"
    }
   ],
   "source": [
    "annual_drug_rate = df.drugs_related_stop.resample('A').mean()\n",
    "annual_drug_rate.plot(c='g')\n",
    "plt.ylabel('Drug related Stops')"
   ]
  },
  {
   "cell_type": "code",
   "execution_count": 28,
   "id": "7d325d00",
   "metadata": {},
   "outputs": [
    {
     "data": {
      "text/plain": [
       "array([<AxesSubplot:xlabel='stop_datetime'>,\n",
       "       <AxesSubplot:xlabel='stop_datetime'>], dtype=object)"
      ]
     },
     "execution_count": 28,
     "metadata": {},
     "output_type": "execute_result"
    },
    {
     "data": {
      "image/png": "[encoded data removed]",
      "text/plain": [
       "<Figure size 432x288 with 2 Axes>"
      ]
     },
     "metadata": {
      "needs_background": "light"
     },
     "output_type": "display_data"
    }
   ],
   "source": [
    "annual_search_rate = df.search_conducted.resample('A').mean()\n",
    "annual = pd.concat([annual_drug_rate, annual_search_rate], axis='columns')\n",
    "annual.plot(subplots=True)"
   ]
  },
  {
   "cell_type": "markdown",
   "id": "97b7c2c1",
   "metadata": {},
   "source": [
    "* By the above plot, it is clear that after decreasing in search rate,drug_related_stop has increased"
   ]
  },
  {
   "cell_type": "markdown",
   "id": "c08dc180",
   "metadata": {},
   "source": [
    "## Let's check all the parameter by district-wise"
   ]
  },
  {
   "cell_type": "code",
   "execution_count": 29,
   "id": "bed2ebcc",
   "metadata": {},
   "outputs": [
    {
     "name": "stdout",
     "output_type": "stream",
     "text": [
      "violation  Equipment  Moving violation  Other  Registration/plates  Seat belt  \\\n",
      "district                                                                        \n",
      "Zone K1          672              1254    290                  120          0   \n",
      "Zone K2         2061              2962    942                  768        481   \n",
      "Zone K3         2302              2898    705                  695        638   \n",
      "Zone X1          296               671    143                   38         74   \n",
      "Zone X3         2049              3086    769                  671        820   \n",
      "Zone X4         3541              5353   1560                 1411        843   \n",
      "\n",
      "violation  Speeding  \n",
      "district             \n",
      "Zone K1        5960  \n",
      "Zone K2       10448  \n",
      "Zone K3       12322  \n",
      "Zone X1        1119  \n",
      "Zone X3        8779  \n",
      "Zone X4        9795  \n",
      "violation  Equipment  Moving violation  Other  Registration/plates  Seat belt  \\\n",
      "district                                                                        \n",
      "Zone K1          672              1254    290                  120          0   \n",
      "Zone K2         2061              2962    942                  768        481   \n",
      "Zone K3         2302              2898    705                  695        638   \n",
      "\n",
      "violation  Speeding  \n",
      "district             \n",
      "Zone K1        5960  \n",
      "Zone K2       10448  \n",
      "Zone K3       12322  \n"
     ]
    }
   ],
   "source": [
    "print(pd.crosstab(df.district, df.violation))\n",
    "\n",
    "all_zones = pd.crosstab(df.district, df.violation)\n",
    "\n",
    "# Select rows 'Zone K1' through 'Zone K3'\n",
    "print(all_zones.loc['Zone K1':'Zone K3'])\n",
    "\n",
    "# Save the smaller table as 'k_zones'\n",
    "k_zones = all_zones.loc['Zone K1':'Zone K3']"
   ]
  },
  {
   "cell_type": "markdown",
   "id": "189daf88",
   "metadata": {},
   "source": [
    "## Let's draw a stacked bar chart to make more insights clearly"
   ]
  },
  {
   "cell_type": "code",
   "execution_count": 30,
   "id": "f4501f6f",
   "metadata": {},
   "outputs": [
    {
     "data": {
      "text/plain": [
       "<AxesSubplot:xlabel='district'>"
      ]
     },
     "execution_count": 30,
     "metadata": {},
     "output_type": "execute_result"
    },
    {
     "data": {
      "image/png": "[encoded data removed]",
      "text/plain": [
       "<Figure size 432x288 with 1 Axes>"
      ]
     },
     "metadata": {
      "needs_background": "light"
     },
     "output_type": "display_data"
    }
   ],
   "source": [
    "k_zones.plot(kind='bar',stacked=True)"
   ]
  },
  {
   "cell_type": "markdown",
   "id": "88df0daa",
   "metadata": {},
   "source": [
    "* So, I can see that for all the zones, speeding is one of the parameter which casues more violation"
   ]
  },
  {
   "cell_type": "markdown",
   "id": "17c01a6f",
   "metadata": {},
   "source": [
    "## Let's check the stopped time of the driver"
   ]
  },
  {
   "cell_type": "code",
   "execution_count": 31,
   "id": "a04e03a4",
   "metadata": {},
   "outputs": [
    {
     "data": {
      "text/plain": [
       "0-15 Min     69577\n",
       "16-30 Min    13740\n",
       "30+ Min       3219\n",
       "Name: stop_duration, dtype: int64"
      ]
     },
     "execution_count": 31,
     "metadata": {},
     "output_type": "execute_result"
    }
   ],
   "source": [
    "df.stop_duration.value_counts()"
   ]
  },
  {
   "cell_type": "markdown",
   "id": "3c735e38",
   "metadata": {},
   "source": [
    "* I can see that the time is not available in a fixed time limit let's assign some value to it and then examine the result"
   ]
  },
  {
   "cell_type": "code",
   "execution_count": 32,
   "id": "f7488c54",
   "metadata": {},
   "outputs": [
    {
     "name": "stdout",
     "output_type": "stream",
     "text": [
      "[ 8 23 45]\n"
     ]
    }
   ],
   "source": [
    "mapping = {'0-15 Min':8,'16-30 Min':23,'30+ Min':45}\n",
    "df['stop_minutes'] = df.stop_duration.map(mapping)\n",
    "print(df['stop_minutes'].unique())"
   ]
  },
  {
   "cell_type": "markdown",
   "id": "6a92d489",
   "metadata": {},
   "source": [
    "## Let's analyze vilation by newly created fields"
   ]
  },
  {
   "cell_type": "code",
   "execution_count": 33,
   "id": "bc45ae31",
   "metadata": {},
   "outputs": [
    {
     "data": {
      "text/plain": [
       "<AxesSubplot:ylabel='violation_raw'>"
      ]
     },
     "execution_count": 33,
     "metadata": {},
     "output_type": "execute_result"
    },
    {
     "data": {
      "image/png": "[encoded data removed]",
      "text/plain": [
       "<Figure size 432x288 with 1 Axes>"
      ]
     },
     "metadata": {
      "needs_background": "light"
     },
     "output_type": "display_data"
    }
   ],
   "source": [
    "stop_length = df.groupby('violation_raw').stop_minutes.mean()\n",
    "stop_length.sort_values().plot(kind='barh',color='r')"
   ]
  },
  {
   "cell_type": "markdown",
   "id": "4a229f22",
   "metadata": {},
   "source": [
    "### Effect of Weather on Action of Traffic Police in the state (Data Taken from National Center of Environmental Information )"
   ]
  },
  {
   "cell_type": "code",
   "execution_count": 34,
   "id": "9b58a444",
   "metadata": {},
   "outputs": [],
   "source": [
    "weather=pd.read_csv('weather.csv')"
   ]
  },
  {
   "cell_type": "code",
   "execution_count": 35,
   "id": "7d0e74c5",
   "metadata": {},
   "outputs": [
    {
     "data": {
      "text/plain": [
       "Index(['STATION', 'DATE', 'TAVG', 'TMIN', 'TMAX', 'AWND', 'WSF2', 'WT01',\n",
       "       'WT02', 'WT03', 'WT04', 'WT05', 'WT06', 'WT07', 'WT08', 'WT09', 'WT10',\n",
       "       'WT11', 'WT13', 'WT14', 'WT15', 'WT16', 'WT17', 'WT18', 'WT19', 'WT21',\n",
       "       'WT22'],\n",
       "      dtype='object')"
      ]
     },
     "execution_count": 35,
     "metadata": {},
     "output_type": "execute_result"
    }
   ],
   "source": [
    "weather.columns"
   ]
  },
  {
   "cell_type": "code",
   "execution_count": 36,
   "id": "75916f72",
   "metadata": {},
   "outputs": [
    {
     "data": {
      "text/html": [
       "<div>\n",
       "<style scoped>\n",
       "    .dataframe tbody tr th:only-of-type {\n",
       "        vertical-align: middle;\n",
       "    }\n",
       "\n",
       "    .dataframe tbody tr th {\n",
       "        vertical-align: top;\n",
       "    }\n",
       "\n",
       "    .dataframe thead th {\n",
       "        text-align: right;\n",
       "    }\n",
       "</style>\n",
       "<table border=\"1\" class=\"dataframe\">\n",
       "  <thead>\n",
       "    <tr style=\"text-align: right;\">\n",
       "      <th></th>\n",
       "      <th>STATION</th>\n",
       "      <th>DATE</th>\n",
       "      <th>TAVG</th>\n",
       "      <th>TMIN</th>\n",
       "      <th>TMAX</th>\n",
       "      <th>AWND</th>\n",
       "      <th>WSF2</th>\n",
       "      <th>WT01</th>\n",
       "      <th>WT02</th>\n",
       "      <th>WT03</th>\n",
       "      <th>...</th>\n",
       "      <th>WT11</th>\n",
       "      <th>WT13</th>\n",
       "      <th>WT14</th>\n",
       "      <th>WT15</th>\n",
       "      <th>WT16</th>\n",
       "      <th>WT17</th>\n",
       "      <th>WT18</th>\n",
       "      <th>WT19</th>\n",
       "      <th>WT21</th>\n",
       "      <th>WT22</th>\n",
       "    </tr>\n",
       "  </thead>\n",
       "  <tbody>\n",
       "    <tr>\n",
       "      <th>0</th>\n",
       "      <td>USW00014765</td>\n",
       "      <td>2005-01-01</td>\n",
       "      <td>44.0</td>\n",
       "      <td>35</td>\n",
       "      <td>53</td>\n",
       "      <td>8.95</td>\n",
       "      <td>25.1</td>\n",
       "      <td>1.0</td>\n",
       "      <td>NaN</td>\n",
       "      <td>NaN</td>\n",
       "      <td>...</td>\n",
       "      <td>NaN</td>\n",
       "      <td>1.0</td>\n",
       "      <td>NaN</td>\n",
       "      <td>NaN</td>\n",
       "      <td>NaN</td>\n",
       "      <td>NaN</td>\n",
       "      <td>NaN</td>\n",
       "      <td>NaN</td>\n",
       "      <td>NaN</td>\n",
       "      <td>NaN</td>\n",
       "    </tr>\n",
       "    <tr>\n",
       "      <th>1</th>\n",
       "      <td>USW00014765</td>\n",
       "      <td>2005-01-02</td>\n",
       "      <td>36.0</td>\n",
       "      <td>28</td>\n",
       "      <td>44</td>\n",
       "      <td>9.40</td>\n",
       "      <td>14.1</td>\n",
       "      <td>NaN</td>\n",
       "      <td>NaN</td>\n",
       "      <td>NaN</td>\n",
       "      <td>...</td>\n",
       "      <td>NaN</td>\n",
       "      <td>NaN</td>\n",
       "      <td>NaN</td>\n",
       "      <td>NaN</td>\n",
       "      <td>1.0</td>\n",
       "      <td>NaN</td>\n",
       "      <td>1.0</td>\n",
       "      <td>NaN</td>\n",
       "      <td>NaN</td>\n",
       "      <td>NaN</td>\n",
       "    </tr>\n",
       "    <tr>\n",
       "      <th>2</th>\n",
       "      <td>USW00014765</td>\n",
       "      <td>2005-01-03</td>\n",
       "      <td>49.0</td>\n",
       "      <td>44</td>\n",
       "      <td>53</td>\n",
       "      <td>6.93</td>\n",
       "      <td>17.0</td>\n",
       "      <td>1.0</td>\n",
       "      <td>NaN</td>\n",
       "      <td>NaN</td>\n",
       "      <td>...</td>\n",
       "      <td>NaN</td>\n",
       "      <td>1.0</td>\n",
       "      <td>NaN</td>\n",
       "      <td>NaN</td>\n",
       "      <td>1.0</td>\n",
       "      <td>NaN</td>\n",
       "      <td>NaN</td>\n",
       "      <td>NaN</td>\n",
       "      <td>NaN</td>\n",
       "      <td>NaN</td>\n",
       "    </tr>\n",
       "    <tr>\n",
       "      <th>3</th>\n",
       "      <td>USW00014765</td>\n",
       "      <td>2005-01-04</td>\n",
       "      <td>42.0</td>\n",
       "      <td>39</td>\n",
       "      <td>45</td>\n",
       "      <td>6.93</td>\n",
       "      <td>16.1</td>\n",
       "      <td>1.0</td>\n",
       "      <td>NaN</td>\n",
       "      <td>NaN</td>\n",
       "      <td>...</td>\n",
       "      <td>NaN</td>\n",
       "      <td>1.0</td>\n",
       "      <td>1.0</td>\n",
       "      <td>NaN</td>\n",
       "      <td>1.0</td>\n",
       "      <td>NaN</td>\n",
       "      <td>NaN</td>\n",
       "      <td>NaN</td>\n",
       "      <td>NaN</td>\n",
       "      <td>NaN</td>\n",
       "    </tr>\n",
       "    <tr>\n",
       "      <th>4</th>\n",
       "      <td>USW00014765</td>\n",
       "      <td>2005-01-05</td>\n",
       "      <td>36.0</td>\n",
       "      <td>28</td>\n",
       "      <td>43</td>\n",
       "      <td>7.83</td>\n",
       "      <td>17.0</td>\n",
       "      <td>1.0</td>\n",
       "      <td>NaN</td>\n",
       "      <td>NaN</td>\n",
       "      <td>...</td>\n",
       "      <td>NaN</td>\n",
       "      <td>1.0</td>\n",
       "      <td>NaN</td>\n",
       "      <td>NaN</td>\n",
       "      <td>1.0</td>\n",
       "      <td>NaN</td>\n",
       "      <td>1.0</td>\n",
       "      <td>NaN</td>\n",
       "      <td>NaN</td>\n",
       "      <td>NaN</td>\n",
       "    </tr>\n",
       "  </tbody>\n",
       "</table>\n",
       "<p>5 rows × 27 columns</p>\n",
       "</div>"
      ],
      "text/plain": [
       "       STATION        DATE  TAVG  TMIN  TMAX  AWND  WSF2  WT01  WT02  WT03  \\\n",
       "0  USW00014765  2005-01-01  44.0    35    53  8.95  25.1   1.0   NaN   NaN   \n",
       "1  USW00014765  2005-01-02  36.0    28    44  9.40  14.1   NaN   NaN   NaN   \n",
       "2  USW00014765  2005-01-03  49.0    44    53  6.93  17.0   1.0   NaN   NaN   \n",
       "3  USW00014765  2005-01-04  42.0    39    45  6.93  16.1   1.0   NaN   NaN   \n",
       "4  USW00014765  2005-01-05  36.0    28    43  7.83  17.0   1.0   NaN   NaN   \n",
       "\n",
       "   ...  WT11  WT13  WT14  WT15  WT16  WT17  WT18  WT19  WT21  WT22  \n",
       "0  ...   NaN   1.0   NaN   NaN   NaN   NaN   NaN   NaN   NaN   NaN  \n",
       "1  ...   NaN   NaN   NaN   NaN   1.0   NaN   1.0   NaN   NaN   NaN  \n",
       "2  ...   NaN   1.0   NaN   NaN   1.0   NaN   NaN   NaN   NaN   NaN  \n",
       "3  ...   NaN   1.0   1.0   NaN   1.0   NaN   NaN   NaN   NaN   NaN  \n",
       "4  ...   NaN   1.0   NaN   NaN   1.0   NaN   1.0   NaN   NaN   NaN  \n",
       "\n",
       "[5 rows x 27 columns]"
      ]
     },
     "execution_count": 36,
     "metadata": {},
     "output_type": "execute_result"
    }
   ],
   "source": [
    "weather.head()"
   ]
  },
  {
   "cell_type": "markdown",
   "id": "a74ea86f",
   "metadata": {},
   "source": [
    "## Let us examine windspeed columns(in mph)\n"
   ]
  },
  {
   "cell_type": "code",
   "execution_count": 37,
   "id": "84d1f337",
   "metadata": {},
   "outputs": [
    {
     "data": {
      "text/html": [
       "<div>\n",
       "<style scoped>\n",
       "    .dataframe tbody tr th:only-of-type {\n",
       "        vertical-align: middle;\n",
       "    }\n",
       "\n",
       "    .dataframe tbody tr th {\n",
       "        vertical-align: top;\n",
       "    }\n",
       "\n",
       "    .dataframe thead th {\n",
       "        text-align: right;\n",
       "    }\n",
       "</style>\n",
       "<table border=\"1\" class=\"dataframe\">\n",
       "  <thead>\n",
       "    <tr style=\"text-align: right;\">\n",
       "      <th></th>\n",
       "      <th>AWND</th>\n",
       "      <th>WSF2</th>\n",
       "    </tr>\n",
       "  </thead>\n",
       "  <tbody>\n",
       "    <tr>\n",
       "      <th>count</th>\n",
       "      <td>4017.000000</td>\n",
       "      <td>4017.000000</td>\n",
       "    </tr>\n",
       "    <tr>\n",
       "      <th>mean</th>\n",
       "      <td>8.593707</td>\n",
       "      <td>19.274782</td>\n",
       "    </tr>\n",
       "    <tr>\n",
       "      <th>std</th>\n",
       "      <td>3.364601</td>\n",
       "      <td>5.623866</td>\n",
       "    </tr>\n",
       "    <tr>\n",
       "      <th>min</th>\n",
       "      <td>0.220000</td>\n",
       "      <td>4.900000</td>\n",
       "    </tr>\n",
       "    <tr>\n",
       "      <th>25%</th>\n",
       "      <td>6.260000</td>\n",
       "      <td>15.000000</td>\n",
       "    </tr>\n",
       "    <tr>\n",
       "      <th>50%</th>\n",
       "      <td>8.050000</td>\n",
       "      <td>17.900000</td>\n",
       "    </tr>\n",
       "    <tr>\n",
       "      <th>75%</th>\n",
       "      <td>10.290000</td>\n",
       "      <td>21.900000</td>\n",
       "    </tr>\n",
       "    <tr>\n",
       "      <th>max</th>\n",
       "      <td>26.840000</td>\n",
       "      <td>48.100000</td>\n",
       "    </tr>\n",
       "  </tbody>\n",
       "</table>\n",
       "</div>"
      ],
      "text/plain": [
       "              AWND         WSF2\n",
       "count  4017.000000  4017.000000\n",
       "mean      8.593707    19.274782\n",
       "std       3.364601     5.623866\n",
       "min       0.220000     4.900000\n",
       "25%       6.260000    15.000000\n",
       "50%       8.050000    17.900000\n",
       "75%      10.290000    21.900000\n",
       "max      26.840000    48.100000"
      ]
     },
     "execution_count": 37,
     "metadata": {},
     "output_type": "execute_result"
    }
   ],
   "source": [
    "weather[['AWND','WSF2']].describe()"
   ]
  },
  {
   "cell_type": "markdown",
   "id": "5863418d",
   "metadata": {},
   "source": [
    "## the data seems to having outliers,let's create the boxplot"
   ]
  },
  {
   "cell_type": "code",
   "execution_count": 38,
   "id": "c8419350",
   "metadata": {},
   "outputs": [
    {
     "data": {
      "text/plain": [
       "<AxesSubplot:>"
      ]
     },
     "execution_count": 38,
     "metadata": {},
     "output_type": "execute_result"
    },
    {
     "data": {
      "image/png": "[encoded data removed]",
      "text/plain": [
       "<Figure size 432x288 with 1 Axes>"
      ]
     },
     "metadata": {
      "needs_background": "light"
     },
     "output_type": "display_data"
    }
   ],
   "source": [
    "weather[['AWND','WSF2']].plot(kind='box')"
   ]
  },
  {
   "cell_type": "code",
   "execution_count": 39,
   "id": "1633b69f",
   "metadata": {},
   "outputs": [
    {
     "data": {
      "text/plain": [
       "<AxesSubplot:ylabel='Frequency'>"
      ]
     },
     "execution_count": 39,
     "metadata": {},
     "output_type": "execute_result"
    },
    {
     "data": {
      "image/png": "[encoded data removed]",
      "text/plain": [
       "<Figure size 432x288 with 1 Axes>"
      ]
     },
     "metadata": {
      "needs_background": "light"
     },
     "output_type": "display_data"
    }
   ],
   "source": [
    "weather['WDIFF'] = weather.WSF2 - weather.AWND\n",
    "weather.WDIFF.plot(kind='hist')"
   ]
  },
  {
   "cell_type": "code",
   "execution_count": 40,
   "id": "73ff7c64",
   "metadata": {},
   "outputs": [
    {
     "data": {
      "text/html": [
       "<div>\n",
       "<style scoped>\n",
       "    .dataframe tbody tr th:only-of-type {\n",
       "        vertical-align: middle;\n",
       "    }\n",
       "\n",
       "    .dataframe tbody tr th {\n",
       "        vertical-align: top;\n",
       "    }\n",
       "\n",
       "    .dataframe thead th {\n",
       "        text-align: right;\n",
       "    }\n",
       "</style>\n",
       "<table border=\"1\" class=\"dataframe\">\n",
       "  <thead>\n",
       "    <tr style=\"text-align: right;\">\n",
       "      <th></th>\n",
       "      <th>TMIN</th>\n",
       "      <th>TAVG</th>\n",
       "      <th>TMAX</th>\n",
       "    </tr>\n",
       "  </thead>\n",
       "  <tbody>\n",
       "    <tr>\n",
       "      <th>count</th>\n",
       "      <td>4017.000000</td>\n",
       "      <td>1217.000000</td>\n",
       "      <td>4017.000000</td>\n",
       "    </tr>\n",
       "    <tr>\n",
       "      <th>mean</th>\n",
       "      <td>43.484441</td>\n",
       "      <td>52.493016</td>\n",
       "      <td>61.268608</td>\n",
       "    </tr>\n",
       "    <tr>\n",
       "      <th>std</th>\n",
       "      <td>17.020298</td>\n",
       "      <td>17.830714</td>\n",
       "      <td>18.199517</td>\n",
       "    </tr>\n",
       "    <tr>\n",
       "      <th>min</th>\n",
       "      <td>-5.000000</td>\n",
       "      <td>6.000000</td>\n",
       "      <td>15.000000</td>\n",
       "    </tr>\n",
       "    <tr>\n",
       "      <th>25%</th>\n",
       "      <td>30.000000</td>\n",
       "      <td>39.000000</td>\n",
       "      <td>47.000000</td>\n",
       "    </tr>\n",
       "    <tr>\n",
       "      <th>50%</th>\n",
       "      <td>44.000000</td>\n",
       "      <td>54.000000</td>\n",
       "      <td>62.000000</td>\n",
       "    </tr>\n",
       "    <tr>\n",
       "      <th>75%</th>\n",
       "      <td>58.000000</td>\n",
       "      <td>68.000000</td>\n",
       "      <td>77.000000</td>\n",
       "    </tr>\n",
       "    <tr>\n",
       "      <th>max</th>\n",
       "      <td>77.000000</td>\n",
       "      <td>86.000000</td>\n",
       "      <td>102.000000</td>\n",
       "    </tr>\n",
       "  </tbody>\n",
       "</table>\n",
       "</div>"
      ],
      "text/plain": [
       "              TMIN         TAVG         TMAX\n",
       "count  4017.000000  1217.000000  4017.000000\n",
       "mean     43.484441    52.493016    61.268608\n",
       "std      17.020298    17.830714    18.199517\n",
       "min      -5.000000     6.000000    15.000000\n",
       "25%      30.000000    39.000000    47.000000\n",
       "50%      44.000000    54.000000    62.000000\n",
       "75%      58.000000    68.000000    77.000000\n",
       "max      77.000000    86.000000   102.000000"
      ]
     },
     "execution_count": 40,
     "metadata": {},
     "output_type": "execute_result"
    }
   ],
   "source": [
    "weather[['TMIN','TAVG','TMAX']].describe()"
   ]
  },
  {
   "cell_type": "code",
   "execution_count": 41,
   "id": "8f470d5a",
   "metadata": {},
   "outputs": [
    {
     "data": {
      "text/plain": [
       "<AxesSubplot:>"
      ]
     },
     "execution_count": 41,
     "metadata": {},
     "output_type": "execute_result"
    },
    {
     "data": {
      "image/png": "[encoded data removed]",
      "text/plain": [
       "<Figure size 432x288 with 1 Axes>"
      ]
     },
     "metadata": {
      "needs_background": "light"
     },
     "output_type": "display_data"
    }
   ],
   "source": [
    "weather[['TMIN','TAVG','TMAX']].plot(kind='box')"
   ]
  },
  {
   "cell_type": "code",
   "execution_count": 42,
   "id": "29902b14",
   "metadata": {},
   "outputs": [
    {
     "data": {
      "text/plain": [
       "<AxesSubplot:ylabel='Frequency'>"
      ]
     },
     "execution_count": 42,
     "metadata": {},
     "output_type": "execute_result"
    },
    {
     "data": {
      "image/png": "[encoded data removed]",
      "text/plain": [
       "<Figure size 432x288 with 1 Axes>"
      ]
     },
     "metadata": {
      "needs_background": "light"
     },
     "output_type": "display_data"
    }
   ],
   "source": [
    "weather['TDIFF']=weather['TMAX']-weather['TMIN']\n",
    "weather['TDIFF'].plot(kind='hist',bins=20)"
   ]
  },
  {
   "cell_type": "markdown",
   "id": "d8707592",
   "metadata": {},
   "source": [
    "## Remaining Columns denote bad weather cnditions which denote unique bad weather condition 1 denotes it is present while Nan denotes not"
   ]
  },
  {
   "cell_type": "code",
   "execution_count": 43,
   "id": "e6861cc4",
   "metadata": {},
   "outputs": [
    {
     "data": {
      "text/plain": [
       "<AxesSubplot:ylabel='Frequency'>"
      ]
     },
     "execution_count": 43,
     "metadata": {},
     "output_type": "execute_result"
    },
    {
     "data": {
      "image/png": "[encoded data removed]",
      "text/plain": [
       "<Figure size 432x288 with 1 Axes>"
      ]
     },
     "metadata": {
      "needs_background": "light"
     },
     "output_type": "display_data"
    }
   ],
   "source": [
    "WT = weather.loc[:, 'WT01':'WT22']\n",
    "\n",
    "weather['bad_conditions'] = WT.sum(axis='columns')\n",
    "\n",
    "weather['bad_conditions'] = weather.bad_conditions.fillna(0).astype('int')\n",
    "\n",
    "weather.bad_conditions.plot(kind='hist')"
   ]
  },
  {
   "cell_type": "markdown",
   "id": "d82815e7",
   "metadata": {},
   "source": [
    "* This shows that weather was not bad for many days"
   ]
  },
  {
   "cell_type": "markdown",
   "id": "03f72aca",
   "metadata": {},
   "source": [
    "## Dictionary to map values to weather condition 0 means good 1-4 bad and 5-9 worse"
   ]
  },
  {
   "cell_type": "code",
   "execution_count": 44,
   "id": "a5948087",
   "metadata": {},
   "outputs": [
    {
     "name": "stdout",
     "output_type": "stream",
     "text": [
      "bad      1836\n",
      "good     1749\n",
      "worse     432\n",
      "Name: rating, dtype: int64\n"
     ]
    }
   ],
   "source": [
    "mapping = {0:'good', 1:'bad', 2:'bad', 3:'bad',4:'bad',5:'worse',6:'worse',7:'worse',8:'worse',9:'worse'}\n",
    "weather['rating'] = weather.bad_conditions.map(mapping)\n",
    "print(weather['rating'].value_counts())"
   ]
  },
  {
   "cell_type": "code",
   "execution_count": 45,
   "id": "b8ceb3aa",
   "metadata": {},
   "outputs": [
    {
     "data": {
      "text/plain": [
       "0    bad\n",
       "1    bad\n",
       "2    bad\n",
       "3    bad\n",
       "4    bad\n",
       "Name: rating, dtype: category\n",
       "Categories (3, object): ['good' < 'bad' < 'worse']"
      ]
     },
     "execution_count": 45,
     "metadata": {},
     "output_type": "execute_result"
    }
   ],
   "source": [
    "from pandas.api.types import CategoricalDtype\n",
    "cats=['good','bad','worse']\n",
    "cat_type = CategoricalDtype(categories=cats, ordered=True)\n",
    "weather['rating'] = weather['rating'].astype(cat_type)\n",
    "weather['rating'].head()"
   ]
  },
  {
   "cell_type": "markdown",
   "id": "db7df881",
   "metadata": {},
   "source": [
    "## Merging the df data set with Weather Rating dataset which consists of date and rating only"
   ]
  },
  {
   "cell_type": "code",
   "execution_count": 46,
   "id": "78f5a059",
   "metadata": {},
   "outputs": [
    {
     "name": "stdout",
     "output_type": "stream",
     "text": [
      "(86536, 17)\n"
     ]
    }
   ],
   "source": [
    "df.reset_index(inplace=True)\n",
    "weather_rating=weather[['DATE','rating']]\n",
    "df_weather = pd.merge(left=df, right=weather_rating, left_on='stop_date', right_on='DATE', how='left')\n",
    "print(df_weather.shape)"
   ]
  },
  {
   "cell_type": "markdown",
   "id": "48c01b1d",
   "metadata": {},
   "source": [
    "### Now an important Question which arises that weather affect arrests or not"
   ]
  },
  {
   "cell_type": "code",
   "execution_count": 47,
   "id": "10b45680",
   "metadata": {},
   "outputs": [
    {
     "name": "stdout",
     "output_type": "stream",
     "text": [
      "0.0355690117407784\n",
      "rating\n",
      "good     0.033715\n",
      "bad      0.036261\n",
      "worse    0.041667\n",
      "Name: is_arrested, dtype: float64\n",
      "violation            rating\n",
      "Equipment            good      0.059007\n",
      "                     bad       0.066311\n",
      "                     worse     0.097357\n",
      "Moving violation     good      0.056227\n",
      "                     bad       0.058050\n",
      "                     worse     0.065860\n",
      "Other                good      0.076966\n",
      "                     bad       0.087443\n",
      "                     worse     0.062893\n",
      "Registration/plates  good      0.081574\n",
      "                     bad       0.098160\n",
      "                     worse     0.115625\n",
      "Seat belt            good      0.028587\n",
      "                     bad       0.022493\n",
      "                     worse     0.000000\n",
      "Speeding             good      0.013405\n",
      "                     bad       0.013314\n",
      "                     worse     0.016886\n",
      "Name: is_arrested, dtype: float64\n"
     ]
    }
   ],
   "source": [
    "print(df_weather.is_arrested.mean())\n",
    "print(df_weather.groupby(['rating'])['is_arrested'].mean())\n",
    "print(df_weather.groupby(['violation','rating'])['is_arrested'].mean())"
   ]
  },
  {
   "cell_type": "code",
   "execution_count": 48,
   "id": "23499616",
   "metadata": {},
   "outputs": [
    {
     "data": {
      "text/html": [
       "<div>\n",
       "<style scoped>\n",
       "    .dataframe tbody tr th:only-of-type {\n",
       "        vertical-align: middle;\n",
       "    }\n",
       "\n",
       "    .dataframe tbody tr th {\n",
       "        vertical-align: top;\n",
       "    }\n",
       "\n",
       "    .dataframe thead th {\n",
       "        text-align: right;\n",
       "    }\n",
       "</style>\n",
       "<table border=\"1\" class=\"dataframe\">\n",
       "  <thead>\n",
       "    <tr style=\"text-align: right;\">\n",
       "      <th>rating</th>\n",
       "      <th>good</th>\n",
       "      <th>bad</th>\n",
       "      <th>worse</th>\n",
       "    </tr>\n",
       "    <tr>\n",
       "      <th>violation</th>\n",
       "      <th></th>\n",
       "      <th></th>\n",
       "      <th></th>\n",
       "    </tr>\n",
       "  </thead>\n",
       "  <tbody>\n",
       "    <tr>\n",
       "      <th>Equipment</th>\n",
       "      <td>0.059007</td>\n",
       "      <td>0.066311</td>\n",
       "      <td>0.097357</td>\n",
       "    </tr>\n",
       "    <tr>\n",
       "      <th>Moving violation</th>\n",
       "      <td>0.056227</td>\n",
       "      <td>0.058050</td>\n",
       "      <td>0.065860</td>\n",
       "    </tr>\n",
       "    <tr>\n",
       "      <th>Other</th>\n",
       "      <td>0.076966</td>\n",
       "      <td>0.087443</td>\n",
       "      <td>0.062893</td>\n",
       "    </tr>\n",
       "    <tr>\n",
       "      <th>Registration/plates</th>\n",
       "      <td>0.081574</td>\n",
       "      <td>0.098160</td>\n",
       "      <td>0.115625</td>\n",
       "    </tr>\n",
       "    <tr>\n",
       "      <th>Seat belt</th>\n",
       "      <td>0.028587</td>\n",
       "      <td>0.022493</td>\n",
       "      <td>0.000000</td>\n",
       "    </tr>\n",
       "    <tr>\n",
       "      <th>Speeding</th>\n",
       "      <td>0.013405</td>\n",
       "      <td>0.013314</td>\n",
       "      <td>0.016886</td>\n",
       "    </tr>\n",
       "  </tbody>\n",
       "</table>\n",
       "</div>"
      ],
      "text/plain": [
       "rating                   good       bad     worse\n",
       "violation                                        \n",
       "Equipment            0.059007  0.066311  0.097357\n",
       "Moving violation     0.056227  0.058050  0.065860\n",
       "Other                0.076966  0.087443  0.062893\n",
       "Registration/plates  0.081574  0.098160  0.115625\n",
       "Seat belt            0.028587  0.022493  0.000000\n",
       "Speeding             0.013405  0.013314  0.016886"
      ]
     },
     "execution_count": 48,
     "metadata": {},
     "output_type": "execute_result"
    }
   ],
   "source": [
    "arrest_rate=df_weather.groupby(['violation','rating'])['is_arrested'].mean()\n",
    "arrest_rate.unstack()\n",
    "df_weather.pivot_table(index='violation', columns='rating', values='is_arrested')"
   ]
  },
  {
   "cell_type": "code",
   "execution_count": 49,
   "id": "e4536af6",
   "metadata": {},
   "outputs": [
    {
     "data": {
      "text/plain": [
       "<AxesSubplot:xlabel='violation'>"
      ]
     },
     "execution_count": 49,
     "metadata": {},
     "output_type": "execute_result"
    },
    {
     "data": {
      "image/png": "[encoded data removed]",
      "text/plain": [
       "<Figure size 432x288 with 1 Axes>"
      ]
     },
     "metadata": {
      "needs_background": "light"
     },
     "output_type": "display_data"
    }
   ],
   "source": [
    "df_weather.pivot_table(index='violation', columns='rating', values='is_arrested').plot(kind='bar')"
   ]
  },
  {
   "cell_type": "markdown",
   "id": "37396488",
   "metadata": {},
   "source": [
    "## Insight \n",
    "*  We can see that for each violation arrest rate increases for worse weather rating although it is doesnot specify a casual relationship but there exists a correlation within it"
   ]
  },
  {
   "cell_type": "code",
   "execution_count": null,
   "id": "fd2a00c6",
   "metadata": {},
   "outputs": [],
   "source": []
  }
 ],
 "metadata": {
  "kernelspec": {
   "display_name": "Python 3 (ipykernel)",
   "language": "python",
   "name": "python3"
  },
  "language_info": {
   "codemirror_mode": {
    "name": "ipython",
    "version": 3
   },
   "file_extension": ".py",
   "mimetype": "text/x-python",
   "name": "python",
   "nbconvert_exporter": "python",
   "pygments_lexer": "ipython3",
   "version": "3.9.7"
  }
 },
 "nbformat": 4,
 "nbformat_minor": 5
}
